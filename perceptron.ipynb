{
 "cells": [
  {
   "cell_type": "code",
   "execution_count": 15,
   "metadata": {},
   "outputs": [
    {
     "name": "stdout",
     "output_type": "stream",
     "text": [
      "Search Grid - Hyperparameters\n",
      "\n",
      "Best parameters for Single Layer Perceptron:\n",
      "{'alpha': 0.01, 'class_weight': {0: 1, 1: 2}, 'early_stopping': False, 'eta0': 0.0001, 'max_iter': 1000, 'penalty': 'elasticnet', 'random_state': 42, 'shuffle': False, 'tol': 0.001}\n",
      "\n",
      "Best cross-validation score: 0.6855924296947887\n",
      "\n",
      "Confusion Matrix:\n",
      "[[63 36]\n",
      " [22 33]]\n",
      "\n",
      "Classification Report:\n",
      "              precision    recall  f1-score   support\n",
      "\n",
      "           0       0.74      0.64      0.68        99\n",
      "           1       0.48      0.60      0.53        55\n",
      "\n",
      "    accuracy                           0.62       154\n",
      "   macro avg       0.61      0.62      0.61       154\n",
      "weighted avg       0.65      0.62      0.63       154\n",
      "\n"
     ]
    }
   ],
   "source": [
    "import pandas as pd\n",
    "import numpy as np\n",
    "from sklearn.model_selection import train_test_split, GridSearchCV\n",
    "from sklearn.preprocessing import StandardScaler\n",
    "from sklearn.linear_model import Perceptron, LogisticRegression\n",
    "from sklearn.metrics import accuracy_score, confusion_matrix, classification_report\n",
    "from sklearn.metrics import recall_score, f1_score  # Added these metrics\n",
    "\n",
    "df = pd.read_csv('diabetes.csv')\n",
    "X = df.drop('Outcome', axis=1)\n",
    "y = df['Outcome']\n",
    "\n",
    "X_train, X_test, y_train, y_test = train_test_split(X, y, test_size=0.2, random_state=42)\n",
    "\n",
    "scaler = StandardScaler()\n",
    "X_train_scaled = scaler.fit_transform(X_train)\n",
    "X_test_scaled = scaler.transform(X_test)\n",
    "\n",
    "print(\"Search Grid - Hyperparameters\")\n",
    "slp_params = {\n",
    "    'max_iter': [1000, 2000],                      #max n of iteration\n",
    "    'tol': [1e-3, 1e-4],                          #tolerance\n",
    "    'alpha': [0.0001, 0.001, 0.01],               #Regularization term parameter\n",
    "    'eta0': [0.0001],                              #learnng rate\n",
    "    'penalty': ['l2', 'l1', 'elasticnet'] ,      #regulariztion        \n",
    "    'shuffle': [False],                           #shuffle training data in each iteration\n",
    "    'early_stopping': [True, False],              #Whether to stop training when validation score isn't improving\n",
    "    'random_state': [42],\n",
    "    'class_weight': [{0:1, 1:2}]                         \n",
    "}\n",
    "\n",
    "slp = Perceptron() \n",
    "slp_grid = GridSearchCV(slp, slp_params, cv=5, scoring='accuracy', n_jobs=-1)\n",
    "slp_grid.fit(X_train_scaled, y_train)\n",
    "\n",
    "print(\"\\nBest parameters for Single Layer Perceptron:\")\n",
    "print(slp_grid.best_params_)\n",
    "print(\"\\nBest cross-validation score:\", slp_grid.best_score_)\n",
    "slp_pred = slp_grid.predict(X_test_scaled)\n",
    "\n",
    "\n",
    "\n",
    "print(\"\\nConfusion Matrix:\")\n",
    "print(confusion_matrix(y_test, slp_pred))\n",
    "print(\"\\nClassification Report:\")\n",
    "print(classification_report(y_test, slp_pred))"
   ]
  },
  {
   "cell_type": "code",
   "execution_count": 6,
   "metadata": {},
   "outputs": [
    {
     "data": {
      "text/plain": [
       "Outcome\n",
       "0    500\n",
       "1    268\n",
       "Name: count, dtype: int64"
      ]
     },
     "execution_count": 6,
     "metadata": {},
     "output_type": "execute_result"
    }
   ],
   "source": [
    "df['Outcome'].value_counts()"
   ]
  },
  {
   "cell_type": "code",
   "execution_count": null,
   "metadata": {},
   "outputs": [
    {
     "name": "stdout",
     "output_type": "stream",
     "text": [
      "confusion matrix:\n",
      "[[66 33]\n",
      " [15 40]]\n",
      "\n",
      "classification report\n",
      "              precision    recall  f1-score   support\n",
      "\n",
      "           0       0.81      0.67      0.73        99\n",
      "           1       0.55      0.73      0.62        55\n",
      "\n",
      "    accuracy                           0.69       154\n",
      "   macro avg       0.68      0.70      0.68       154\n",
      "weighted avg       0.72      0.69      0.69       154\n",
      "\n"
     ]
    }
   ],
   "source": [
    "# Logistic Regression Model\n",
    "# print(\"\\nSearch Grid - Logistic Regression Hyperparameters\")\n",
    "# lr_params = {\n",
    "#     'C': [0.001],          # Inverse of regularization strength    'C': [0.001, 0.01, 0.1, 1, 10, 100]\n",
    "#     'penalty': ['l1', 'l2'],                       # Regularization type\n",
    "#     'solver': ['liblinear'],                       # Algorithm to use\n",
    "#     'max_iter': [2000],                            # Maximum iterations\n",
    "#     'class_weight': ['balanced', {0:1, 1:2}],      # Class weights\n",
    "#     'random_state': [42]\n",
    "# }\n",
    "\n",
    "#lr = LogisticRegression()\n",
    "\n",
    "\n",
    "lr = LogisticRegression(penalty='l2', solver='liblinear', max_iter= 2000, C = 10,\n",
    "                    class_weight= {0:1, 1:2},\n",
    "                    random_state=42)\n",
    "\n",
    "lr.fit(X_train_scaled, y_train)\n",
    "\n",
    "lr_pred = lr.predict(X_test_scaled)\n",
    "\n",
    "print(\"confusion matrix:\")\n",
    "print(confusion_matrix(y_test, lr_pred))\n",
    "print(\"\\nclassification report\")\n",
    "print(classification_report(y_test, lr_pred))"
   ]
  }
 ],
 "metadata": {
  "kernelspec": {
   "display_name": "Python 3",
   "language": "python",
   "name": "python3"
  },
  "language_info": {
   "codemirror_mode": {
    "name": "ipython",
    "version": 3
   },
   "file_extension": ".py",
   "mimetype": "text/x-python",
   "name": "python",
   "nbconvert_exporter": "python",
   "pygments_lexer": "ipython3",
   "version": "3.10.0"
  }
 },
 "nbformat": 4,
 "nbformat_minor": 2
}
